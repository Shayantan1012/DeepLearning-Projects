{
  "nbformat": 4,
  "nbformat_minor": 0,
  "metadata": {
    "colab": {
      "provenance": [],
      "mount_file_id": "15ASi44Ik5t_NQZ9yh-0DWV9jJYsQUBoH",
      "authorship_tag": "ABX9TyOFIdvUKshXl6AKa3aEBrsj",
      "include_colab_link": true
    },
    "kernelspec": {
      "name": "python3",
      "display_name": "Python 3"
    },
    "language_info": {
      "name": "python"
    }
  },
  "cells": [
    {
      "cell_type": "markdown",
      "metadata": {
        "id": "view-in-github",
        "colab_type": "text"
      },
      "source": [
        "<a href=\"https://colab.research.google.com/github/Shayantan1012/DeepLearning-Projects/blob/main/ChunModelling.ipynb\" target=\"_parent\"><img src=\"https://colab.research.google.com/assets/colab-badge.svg\" alt=\"Open In Colab\"/></a>"
      ]
    },
    {
      "cell_type": "code",
      "execution_count": 2,
      "metadata": {
        "colab": {
          "base_uri": "https://localhost:8080/"
        },
        "id": "g2YkTErVYgZv",
        "outputId": "596956f6-4dbe-4dd5-b0bd-23c6bfce0c80"
      },
      "outputs": [
        {
          "output_type": "stream",
          "name": "stdout",
          "text": [
            "      RowNumber  CustomerId    Surname  CreditScore Geography  Gender  Age  \\\n",
            "0             1    15634602   Hargrave          619    France  Female   42   \n",
            "1             2    15647311       Hill          608     Spain  Female   41   \n",
            "2             3    15619304       Onio          502    France  Female   42   \n",
            "3             4    15701354       Boni          699    France  Female   39   \n",
            "4             5    15737888   Mitchell          850     Spain  Female   43   \n",
            "...         ...         ...        ...          ...       ...     ...  ...   \n",
            "9995       9996    15606229   Obijiaku          771    France    Male   39   \n",
            "9996       9997    15569892  Johnstone          516    France    Male   35   \n",
            "9997       9998    15584532        Liu          709    France  Female   36   \n",
            "9998       9999    15682355  Sabbatini          772   Germany    Male   42   \n",
            "9999      10000    15628319     Walker          792    France  Female   28   \n",
            "\n",
            "      Tenure    Balance  NumOfProducts  HasCrCard  IsActiveMember  \\\n",
            "0          2       0.00              1          1               1   \n",
            "1          1   83807.86              1          0               1   \n",
            "2          8  159660.80              3          1               0   \n",
            "3          1       0.00              2          0               0   \n",
            "4          2  125510.82              1          1               1   \n",
            "...      ...        ...            ...        ...             ...   \n",
            "9995       5       0.00              2          1               0   \n",
            "9996      10   57369.61              1          1               1   \n",
            "9997       7       0.00              1          0               1   \n",
            "9998       3   75075.31              2          1               0   \n",
            "9999       4  130142.79              1          1               0   \n",
            "\n",
            "      EstimatedSalary  Exited  \n",
            "0           101348.88       1  \n",
            "1           112542.58       0  \n",
            "2           113931.57       1  \n",
            "3            93826.63       0  \n",
            "4            79084.10       0  \n",
            "...               ...     ...  \n",
            "9995         96270.64       0  \n",
            "9996        101699.77       0  \n",
            "9997         42085.58       1  \n",
            "9998         92888.52       1  \n",
            "9999         38190.78       0  \n",
            "\n",
            "[10000 rows x 14 columns]\n"
          ]
        }
      ],
      "source": [
        "import pandas as pd\n",
        "ds=pd.read_csv('/ChurnModelling.csv')\n",
        "print(ds)"
      ]
    },
    {
      "cell_type": "code",
      "source": [
        "ds.drop(columns=['CustomerId','RowNumber','Surname'],axis=1,inplace=True)\n"
      ],
      "metadata": {
        "id": "Ui_mqrSheU-8"
      },
      "execution_count": 3,
      "outputs": []
    },
    {
      "cell_type": "code",
      "source": [
        "from sklearn.preprocessing import LabelEncoder\n",
        "le=LabelEncoder()\n",
        "ds['Geography']=le.fit_transform(ds['Geography'])\n",
        "ds['Gender']=le.fit_transform(ds['Gender'])\n",
        "print(ds['Geography'])\n",
        "print(ds['Gender'])"
      ],
      "metadata": {
        "colab": {
          "base_uri": "https://localhost:8080/"
        },
        "id": "9kcb2cHGg9wz",
        "outputId": "dd4836b0-1658-4f03-9d1c-777b4273ef6f"
      },
      "execution_count": 4,
      "outputs": [
        {
          "output_type": "stream",
          "name": "stdout",
          "text": [
            "0       0\n",
            "1       2\n",
            "2       0\n",
            "3       0\n",
            "4       2\n",
            "       ..\n",
            "9995    0\n",
            "9996    0\n",
            "9997    0\n",
            "9998    1\n",
            "9999    0\n",
            "Name: Geography, Length: 10000, dtype: int64\n",
            "0       0\n",
            "1       0\n",
            "2       0\n",
            "3       0\n",
            "4       0\n",
            "       ..\n",
            "9995    1\n",
            "9996    1\n",
            "9997    0\n",
            "9998    1\n",
            "9999    0\n",
            "Name: Gender, Length: 10000, dtype: int64\n"
          ]
        }
      ]
    },
    {
      "cell_type": "code",
      "source": [
        "pd.get_dummies(ds,columns=['Geography'],drop_first=True)\n",
        "print(ds)"
      ],
      "metadata": {
        "colab": {
          "base_uri": "https://localhost:8080/"
        },
        "id": "q1liYRNjhb87",
        "outputId": "e976ac02-a604-4eba-f7e4-0b4e034698f9"
      },
      "execution_count": 5,
      "outputs": [
        {
          "output_type": "stream",
          "name": "stdout",
          "text": [
            "      CreditScore  Geography  Gender  Age  Tenure    Balance  NumOfProducts  \\\n",
            "0             619          0       0   42       2       0.00              1   \n",
            "1             608          2       0   41       1   83807.86              1   \n",
            "2             502          0       0   42       8  159660.80              3   \n",
            "3             699          0       0   39       1       0.00              2   \n",
            "4             850          2       0   43       2  125510.82              1   \n",
            "...           ...        ...     ...  ...     ...        ...            ...   \n",
            "9995          771          0       1   39       5       0.00              2   \n",
            "9996          516          0       1   35      10   57369.61              1   \n",
            "9997          709          0       0   36       7       0.00              1   \n",
            "9998          772          1       1   42       3   75075.31              2   \n",
            "9999          792          0       0   28       4  130142.79              1   \n",
            "\n",
            "      HasCrCard  IsActiveMember  EstimatedSalary  Exited  \n",
            "0             1               1        101348.88       1  \n",
            "1             0               1        112542.58       0  \n",
            "2             1               0        113931.57       1  \n",
            "3             0               0         93826.63       0  \n",
            "4             1               1         79084.10       0  \n",
            "...         ...             ...              ...     ...  \n",
            "9995          1               0         96270.64       0  \n",
            "9996          1               1        101699.77       0  \n",
            "9997          0               1         42085.58       1  \n",
            "9998          1               0         92888.52       1  \n",
            "9999          1               0         38190.78       0  \n",
            "\n",
            "[10000 rows x 11 columns]\n"
          ]
        }
      ]
    },
    {
      "cell_type": "code",
      "source": [
        "X=ds.drop(columns=['Exited']).values\n",
        "Y=ds['Exited'].values\n",
        "print(X)\n",
        "print(Y)\n"
      ],
      "metadata": {
        "colab": {
          "base_uri": "https://localhost:8080/"
        },
        "id": "tign4PwshiYH",
        "outputId": "8eb3e5c9-c306-4b60-a557-27945c7fc457"
      },
      "execution_count": 6,
      "outputs": [
        {
          "output_type": "stream",
          "name": "stdout",
          "text": [
            "[[6.1900000e+02 0.0000000e+00 0.0000000e+00 ... 1.0000000e+00\n",
            "  1.0000000e+00 1.0134888e+05]\n",
            " [6.0800000e+02 2.0000000e+00 0.0000000e+00 ... 0.0000000e+00\n",
            "  1.0000000e+00 1.1254258e+05]\n",
            " [5.0200000e+02 0.0000000e+00 0.0000000e+00 ... 1.0000000e+00\n",
            "  0.0000000e+00 1.1393157e+05]\n",
            " ...\n",
            " [7.0900000e+02 0.0000000e+00 0.0000000e+00 ... 0.0000000e+00\n",
            "  1.0000000e+00 4.2085580e+04]\n",
            " [7.7200000e+02 1.0000000e+00 1.0000000e+00 ... 1.0000000e+00\n",
            "  0.0000000e+00 9.2888520e+04]\n",
            " [7.9200000e+02 0.0000000e+00 0.0000000e+00 ... 1.0000000e+00\n",
            "  0.0000000e+00 3.8190780e+04]]\n",
            "[1 0 1 ... 1 1 0]\n"
          ]
        }
      ]
    },
    {
      "cell_type": "code",
      "source": [
        "print(X.shape)\n",
        "print(Y.shape)\n"
      ],
      "metadata": {
        "colab": {
          "base_uri": "https://localhost:8080/"
        },
        "id": "xenV3ofbjcds",
        "outputId": "8cb8dfa5-85e2-4d5e-f539-7708bdc7baa5"
      },
      "execution_count": 7,
      "outputs": [
        {
          "output_type": "stream",
          "name": "stdout",
          "text": [
            "(10000, 10)\n",
            "(10000,)\n"
          ]
        }
      ]
    },
    {
      "cell_type": "code",
      "source": [
        "from sklearn.preprocessing import StandardScaler\n",
        "sc = StandardScaler()\n",
        "X=sc.fit_transform(X)\n",
        "\n",
        "from sklearn.model_selection import train_test_split\n",
        "X_train,X_test,Y_train,y_test=train_test_split(X,Y,test_size=0.1,random_state=0)\n"
      ],
      "metadata": {
        "id": "b1CHf8TtjLWf"
      },
      "execution_count": 8,
      "outputs": []
    },
    {
      "cell_type": "code",
      "source": [
        "import tensorflow\n",
        "from tensorflow import keras\n",
        "from tensorflow.keras import Sequential\n",
        "from tensorflow.keras.layers import Dense\n",
        "\n",
        "model=Sequential()\n",
        "\n",
        "print(X_train.shape)\n",
        "\n",
        "model.add(Dense(10,activation='relu',input_dim=X_train.shape[1]))\n",
        "model.add(Dense(10,activation='relu'))\n",
        "model.add(Dense(10,activation='relu'))\n",
        "model.add(Dense(1,activation='sigmoid'))\n"
      ],
      "metadata": {
        "colab": {
          "base_uri": "https://localhost:8080/"
        },
        "id": "kstlER6ojMRj",
        "outputId": "36f4dbd9-0959-4d80-dd8b-3f3aef3ffd41"
      },
      "execution_count": 9,
      "outputs": [
        {
          "output_type": "stream",
          "name": "stdout",
          "text": [
            "(9000, 10)\n"
          ]
        },
        {
          "output_type": "stream",
          "name": "stderr",
          "text": [
            "/usr/local/lib/python3.10/dist-packages/keras/src/layers/core/dense.py:87: UserWarning: Do not pass an `input_shape`/`input_dim` argument to a layer. When using Sequential models, prefer using an `Input(shape)` object as the first layer in the model instead.\n",
            "  super().__init__(activity_regularizer=activity_regularizer, **kwargs)\n"
          ]
        }
      ]
    },
    {
      "cell_type": "code",
      "source": [
        "model.compile(optimizer='adam',loss='binary_crossentropy',metrics=['accuracy'])\n",
        "history=model.fit(X_train,Y_train,batch_size=50,epochs=50,verbose=1,validation_split=0.2)\n"
      ],
      "metadata": {
        "colab": {
          "base_uri": "https://localhost:8080/"
        },
        "id": "VGs2SMLyjylm",
        "outputId": "96499f41-5e7d-4461-ba58-1a0a39c2cbe5"
      },
      "execution_count": 29,
      "outputs": [
        {
          "output_type": "stream",
          "name": "stdout",
          "text": [
            "Epoch 1/50\n",
            "\u001b[1m144/144\u001b[0m \u001b[32m━━━━━━━━━━━━━━━━━━━━\u001b[0m\u001b[37m\u001b[0m \u001b[1m3s\u001b[0m 5ms/step - accuracy: 0.8648 - loss: 0.3241 - val_accuracy: 0.8522 - val_loss: 0.3541\n",
            "Epoch 2/50\n",
            "\u001b[1m144/144\u001b[0m \u001b[32m━━━━━━━━━━━━━━━━━━━━\u001b[0m\u001b[37m\u001b[0m \u001b[1m1s\u001b[0m 3ms/step - accuracy: 0.8654 - loss: 0.3296 - val_accuracy: 0.8556 - val_loss: 0.3541\n",
            "Epoch 3/50\n",
            "\u001b[1m144/144\u001b[0m \u001b[32m━━━━━━━━━━━━━━━━━━━━\u001b[0m\u001b[37m\u001b[0m \u001b[1m1s\u001b[0m 4ms/step - accuracy: 0.8763 - loss: 0.3106 - val_accuracy: 0.8567 - val_loss: 0.3525\n",
            "Epoch 4/50\n",
            "\u001b[1m144/144\u001b[0m \u001b[32m━━━━━━━━━━━━━━━━━━━━\u001b[0m\u001b[37m\u001b[0m \u001b[1m1s\u001b[0m 4ms/step - accuracy: 0.8617 - loss: 0.3297 - val_accuracy: 0.8561 - val_loss: 0.3521\n",
            "Epoch 5/50\n",
            "\u001b[1m144/144\u001b[0m \u001b[32m━━━━━━━━━━━━━━━━━━━━\u001b[0m\u001b[37m\u001b[0m \u001b[1m1s\u001b[0m 3ms/step - accuracy: 0.8668 - loss: 0.3272 - val_accuracy: 0.8561 - val_loss: 0.3530\n",
            "Epoch 6/50\n",
            "\u001b[1m144/144\u001b[0m \u001b[32m━━━━━━━━━━━━━━━━━━━━\u001b[0m\u001b[37m\u001b[0m \u001b[1m1s\u001b[0m 4ms/step - accuracy: 0.8672 - loss: 0.3208 - val_accuracy: 0.8550 - val_loss: 0.3519\n",
            "Epoch 7/50\n",
            "\u001b[1m144/144\u001b[0m \u001b[32m━━━━━━━━━━━━━━━━━━━━\u001b[0m\u001b[37m\u001b[0m \u001b[1m2s\u001b[0m 7ms/step - accuracy: 0.8679 - loss: 0.3291 - val_accuracy: 0.8567 - val_loss: 0.3527\n",
            "Epoch 8/50\n",
            "\u001b[1m144/144\u001b[0m \u001b[32m━━━━━━━━━━━━━━━━━━━━\u001b[0m\u001b[37m\u001b[0m \u001b[1m1s\u001b[0m 7ms/step - accuracy: 0.8676 - loss: 0.3251 - val_accuracy: 0.8539 - val_loss: 0.3541\n",
            "Epoch 9/50\n",
            "\u001b[1m144/144\u001b[0m \u001b[32m━━━━━━━━━━━━━━━━━━━━\u001b[0m\u001b[37m\u001b[0m \u001b[1m1s\u001b[0m 7ms/step - accuracy: 0.8615 - loss: 0.3294 - val_accuracy: 0.8589 - val_loss: 0.3528\n",
            "Epoch 10/50\n",
            "\u001b[1m144/144\u001b[0m \u001b[32m━━━━━━━━━━━━━━━━━━━━\u001b[0m\u001b[37m\u001b[0m \u001b[1m1s\u001b[0m 7ms/step - accuracy: 0.8684 - loss: 0.3255 - val_accuracy: 0.8567 - val_loss: 0.3528\n",
            "Epoch 11/50\n",
            "\u001b[1m144/144\u001b[0m \u001b[32m━━━━━━━━━━━━━━━━━━━━\u001b[0m\u001b[37m\u001b[0m \u001b[1m1s\u001b[0m 8ms/step - accuracy: 0.8645 - loss: 0.3260 - val_accuracy: 0.8606 - val_loss: 0.3517\n",
            "Epoch 12/50\n",
            "\u001b[1m144/144\u001b[0m \u001b[32m━━━━━━━━━━━━━━━━━━━━\u001b[0m\u001b[37m\u001b[0m \u001b[1m1s\u001b[0m 7ms/step - accuracy: 0.8631 - loss: 0.3241 - val_accuracy: 0.8561 - val_loss: 0.3532\n",
            "Epoch 13/50\n",
            "\u001b[1m144/144\u001b[0m \u001b[32m━━━━━━━━━━━━━━━━━━━━\u001b[0m\u001b[37m\u001b[0m \u001b[1m1s\u001b[0m 2ms/step - accuracy: 0.8596 - loss: 0.3336 - val_accuracy: 0.8589 - val_loss: 0.3520\n",
            "Epoch 14/50\n",
            "\u001b[1m144/144\u001b[0m \u001b[32m━━━━━━━━━━━━━━━━━━━━\u001b[0m\u001b[37m\u001b[0m \u001b[1m1s\u001b[0m 3ms/step - accuracy: 0.8705 - loss: 0.3114 - val_accuracy: 0.8594 - val_loss: 0.3524\n",
            "Epoch 15/50\n",
            "\u001b[1m144/144\u001b[0m \u001b[32m━━━━━━━━━━━━━━━━━━━━\u001b[0m\u001b[37m\u001b[0m \u001b[1m1s\u001b[0m 2ms/step - accuracy: 0.8751 - loss: 0.3159 - val_accuracy: 0.8606 - val_loss: 0.3528\n",
            "Epoch 16/50\n",
            "\u001b[1m144/144\u001b[0m \u001b[32m━━━━━━━━━━━━━━━━━━━━\u001b[0m\u001b[37m\u001b[0m \u001b[1m1s\u001b[0m 2ms/step - accuracy: 0.8614 - loss: 0.3348 - val_accuracy: 0.8606 - val_loss: 0.3518\n",
            "Epoch 17/50\n",
            "\u001b[1m144/144\u001b[0m \u001b[32m━━━━━━━━━━━━━━━━━━━━\u001b[0m\u001b[37m\u001b[0m \u001b[1m1s\u001b[0m 3ms/step - accuracy: 0.8643 - loss: 0.3273 - val_accuracy: 0.8583 - val_loss: 0.3517\n",
            "Epoch 18/50\n",
            "\u001b[1m144/144\u001b[0m \u001b[32m━━━━━━━━━━━━━━━━━━━━\u001b[0m\u001b[37m\u001b[0m \u001b[1m1s\u001b[0m 2ms/step - accuracy: 0.8713 - loss: 0.3106 - val_accuracy: 0.8594 - val_loss: 0.3520\n",
            "Epoch 19/50\n",
            "\u001b[1m144/144\u001b[0m \u001b[32m━━━━━━━━━━━━━━━━━━━━\u001b[0m\u001b[37m\u001b[0m \u001b[1m1s\u001b[0m 2ms/step - accuracy: 0.8690 - loss: 0.3199 - val_accuracy: 0.8578 - val_loss: 0.3539\n",
            "Epoch 20/50\n",
            "\u001b[1m144/144\u001b[0m \u001b[32m━━━━━━━━━━━━━━━━━━━━\u001b[0m\u001b[37m\u001b[0m \u001b[1m1s\u001b[0m 3ms/step - accuracy: 0.8629 - loss: 0.3299 - val_accuracy: 0.8572 - val_loss: 0.3521\n",
            "Epoch 21/50\n",
            "\u001b[1m144/144\u001b[0m \u001b[32m━━━━━━━━━━━━━━━━━━━━\u001b[0m\u001b[37m\u001b[0m \u001b[1m1s\u001b[0m 3ms/step - accuracy: 0.8747 - loss: 0.3180 - val_accuracy: 0.8594 - val_loss: 0.3519\n",
            "Epoch 22/50\n",
            "\u001b[1m144/144\u001b[0m \u001b[32m━━━━━━━━━━━━━━━━━━━━\u001b[0m\u001b[37m\u001b[0m \u001b[1m0s\u001b[0m 3ms/step - accuracy: 0.8564 - loss: 0.3385 - val_accuracy: 0.8567 - val_loss: 0.3526\n",
            "Epoch 23/50\n",
            "\u001b[1m144/144\u001b[0m \u001b[32m━━━━━━━━━━━━━━━━━━━━\u001b[0m\u001b[37m\u001b[0m \u001b[1m1s\u001b[0m 3ms/step - accuracy: 0.8616 - loss: 0.3257 - val_accuracy: 0.8583 - val_loss: 0.3520\n",
            "Epoch 24/50\n",
            "\u001b[1m144/144\u001b[0m \u001b[32m━━━━━━━━━━━━━━━━━━━━\u001b[0m\u001b[37m\u001b[0m \u001b[1m1s\u001b[0m 3ms/step - accuracy: 0.8636 - loss: 0.3261 - val_accuracy: 0.8594 - val_loss: 0.3514\n",
            "Epoch 25/50\n",
            "\u001b[1m144/144\u001b[0m \u001b[32m━━━━━━━━━━━━━━━━━━━━\u001b[0m\u001b[37m\u001b[0m \u001b[1m0s\u001b[0m 3ms/step - accuracy: 0.8669 - loss: 0.3275 - val_accuracy: 0.8639 - val_loss: 0.3520\n",
            "Epoch 26/50\n",
            "\u001b[1m144/144\u001b[0m \u001b[32m━━━━━━━━━━━━━━━━━━━━\u001b[0m\u001b[37m\u001b[0m \u001b[1m1s\u001b[0m 3ms/step - accuracy: 0.8756 - loss: 0.3141 - val_accuracy: 0.8594 - val_loss: 0.3516\n",
            "Epoch 27/50\n",
            "\u001b[1m144/144\u001b[0m \u001b[32m━━━━━━━━━━━━━━━━━━━━\u001b[0m\u001b[37m\u001b[0m \u001b[1m1s\u001b[0m 3ms/step - accuracy: 0.8623 - loss: 0.3283 - val_accuracy: 0.8606 - val_loss: 0.3527\n",
            "Epoch 28/50\n",
            "\u001b[1m144/144\u001b[0m \u001b[32m━━━━━━━━━━━━━━━━━━━━\u001b[0m\u001b[37m\u001b[0m \u001b[1m1s\u001b[0m 3ms/step - accuracy: 0.8677 - loss: 0.3302 - val_accuracy: 0.8594 - val_loss: 0.3522\n",
            "Epoch 29/50\n",
            "\u001b[1m144/144\u001b[0m \u001b[32m━━━━━━━━━━━━━━━━━━━━\u001b[0m\u001b[37m\u001b[0m \u001b[1m1s\u001b[0m 5ms/step - accuracy: 0.8572 - loss: 0.3460 - val_accuracy: 0.8600 - val_loss: 0.3533\n",
            "Epoch 30/50\n",
            "\u001b[1m144/144\u001b[0m \u001b[32m━━━━━━━━━━━━━━━━━━━━\u001b[0m\u001b[37m\u001b[0m \u001b[1m1s\u001b[0m 5ms/step - accuracy: 0.8560 - loss: 0.3385 - val_accuracy: 0.8594 - val_loss: 0.3535\n",
            "Epoch 31/50\n",
            "\u001b[1m144/144\u001b[0m \u001b[32m━━━━━━━━━━━━━━━━━━━━\u001b[0m\u001b[37m\u001b[0m \u001b[1m1s\u001b[0m 4ms/step - accuracy: 0.8629 - loss: 0.3317 - val_accuracy: 0.8600 - val_loss: 0.3536\n",
            "Epoch 32/50\n",
            "\u001b[1m144/144\u001b[0m \u001b[32m━━━━━━━━━━━━━━━━━━━━\u001b[0m\u001b[37m\u001b[0m \u001b[1m1s\u001b[0m 3ms/step - accuracy: 0.8577 - loss: 0.3349 - val_accuracy: 0.8561 - val_loss: 0.3554\n",
            "Epoch 33/50\n",
            "\u001b[1m144/144\u001b[0m \u001b[32m━━━━━━━━━━━━━━━━━━━━\u001b[0m\u001b[37m\u001b[0m \u001b[1m1s\u001b[0m 3ms/step - accuracy: 0.8657 - loss: 0.3275 - val_accuracy: 0.8561 - val_loss: 0.3542\n",
            "Epoch 34/50\n",
            "\u001b[1m144/144\u001b[0m \u001b[32m━━━━━━━━━━━━━━━━━━━━\u001b[0m\u001b[37m\u001b[0m \u001b[1m1s\u001b[0m 3ms/step - accuracy: 0.8769 - loss: 0.3087 - val_accuracy: 0.8594 - val_loss: 0.3528\n",
            "Epoch 35/50\n",
            "\u001b[1m144/144\u001b[0m \u001b[32m━━━━━━━━━━━━━━━━━━━━\u001b[0m\u001b[37m\u001b[0m \u001b[1m1s\u001b[0m 3ms/step - accuracy: 0.8690 - loss: 0.3223 - val_accuracy: 0.8583 - val_loss: 0.3530\n",
            "Epoch 36/50\n",
            "\u001b[1m144/144\u001b[0m \u001b[32m━━━━━━━━━━━━━━━━━━━━\u001b[0m\u001b[37m\u001b[0m \u001b[1m1s\u001b[0m 3ms/step - accuracy: 0.8653 - loss: 0.3271 - val_accuracy: 0.8550 - val_loss: 0.3547\n",
            "Epoch 37/50\n",
            "\u001b[1m144/144\u001b[0m \u001b[32m━━━━━━━━━━━━━━━━━━━━\u001b[0m\u001b[37m\u001b[0m \u001b[1m1s\u001b[0m 2ms/step - accuracy: 0.8679 - loss: 0.3259 - val_accuracy: 0.8578 - val_loss: 0.3534\n",
            "Epoch 38/50\n",
            "\u001b[1m144/144\u001b[0m \u001b[32m━━━━━━━━━━━━━━━━━━━━\u001b[0m\u001b[37m\u001b[0m \u001b[1m1s\u001b[0m 3ms/step - accuracy: 0.8652 - loss: 0.3278 - val_accuracy: 0.8578 - val_loss: 0.3531\n",
            "Epoch 39/50\n",
            "\u001b[1m144/144\u001b[0m \u001b[32m━━━━━━━━━━━━━━━━━━━━\u001b[0m\u001b[37m\u001b[0m \u001b[1m1s\u001b[0m 2ms/step - accuracy: 0.8659 - loss: 0.3258 - val_accuracy: 0.8550 - val_loss: 0.3566\n",
            "Epoch 40/50\n",
            "\u001b[1m144/144\u001b[0m \u001b[32m━━━━━━━━━━━━━━━━━━━━\u001b[0m\u001b[37m\u001b[0m \u001b[1m1s\u001b[0m 2ms/step - accuracy: 0.8690 - loss: 0.3237 - val_accuracy: 0.8561 - val_loss: 0.3545\n",
            "Epoch 41/50\n",
            "\u001b[1m144/144\u001b[0m \u001b[32m━━━━━━━━━━━━━━━━━━━━\u001b[0m\u001b[37m\u001b[0m \u001b[1m1s\u001b[0m 3ms/step - accuracy: 0.8666 - loss: 0.3213 - val_accuracy: 0.8589 - val_loss: 0.3553\n",
            "Epoch 42/50\n",
            "\u001b[1m144/144\u001b[0m \u001b[32m━━━━━━━━━━━━━━━━━━━━\u001b[0m\u001b[37m\u001b[0m \u001b[1m0s\u001b[0m 3ms/step - accuracy: 0.8681 - loss: 0.3261 - val_accuracy: 0.8567 - val_loss: 0.3546\n",
            "Epoch 43/50\n",
            "\u001b[1m144/144\u001b[0m \u001b[32m━━━━━━━━━━━━━━━━━━━━\u001b[0m\u001b[37m\u001b[0m \u001b[1m1s\u001b[0m 3ms/step - accuracy: 0.8614 - loss: 0.3263 - val_accuracy: 0.8567 - val_loss: 0.3551\n",
            "Epoch 44/50\n",
            "\u001b[1m144/144\u001b[0m \u001b[32m━━━━━━━━━━━━━━━━━━━━\u001b[0m\u001b[37m\u001b[0m \u001b[1m1s\u001b[0m 3ms/step - accuracy: 0.8645 - loss: 0.3228 - val_accuracy: 0.8544 - val_loss: 0.3595\n",
            "Epoch 45/50\n",
            "\u001b[1m144/144\u001b[0m \u001b[32m━━━━━━━━━━━━━━━━━━━━\u001b[0m\u001b[37m\u001b[0m \u001b[1m1s\u001b[0m 4ms/step - accuracy: 0.8671 - loss: 0.3233 - val_accuracy: 0.8567 - val_loss: 0.3553\n",
            "Epoch 46/50\n",
            "\u001b[1m144/144\u001b[0m \u001b[32m━━━━━━━━━━━━━━━━━━━━\u001b[0m\u001b[37m\u001b[0m \u001b[1m1s\u001b[0m 3ms/step - accuracy: 0.8650 - loss: 0.3290 - val_accuracy: 0.8556 - val_loss: 0.3586\n",
            "Epoch 47/50\n",
            "\u001b[1m144/144\u001b[0m \u001b[32m━━━━━━━━━━━━━━━━━━━━\u001b[0m\u001b[37m\u001b[0m \u001b[1m1s\u001b[0m 3ms/step - accuracy: 0.8681 - loss: 0.3219 - val_accuracy: 0.8578 - val_loss: 0.3556\n",
            "Epoch 48/50\n",
            "\u001b[1m144/144\u001b[0m \u001b[32m━━━━━━━━━━━━━━━━━━━━\u001b[0m\u001b[37m\u001b[0m \u001b[1m0s\u001b[0m 3ms/step - accuracy: 0.8674 - loss: 0.3228 - val_accuracy: 0.8544 - val_loss: 0.3556\n",
            "Epoch 49/50\n",
            "\u001b[1m144/144\u001b[0m \u001b[32m━━━━━━━━━━━━━━━━━━━━\u001b[0m\u001b[37m\u001b[0m \u001b[1m1s\u001b[0m 5ms/step - accuracy: 0.8675 - loss: 0.3245 - val_accuracy: 0.8600 - val_loss: 0.3544\n",
            "Epoch 50/50\n",
            "\u001b[1m144/144\u001b[0m \u001b[32m━━━━━━━━━━━━━━━━━━━━\u001b[0m\u001b[37m\u001b[0m \u001b[1m1s\u001b[0m 5ms/step - accuracy: 0.8715 - loss: 0.3167 - val_accuracy: 0.8589 - val_loss: 0.3543\n"
          ]
        }
      ]
    },
    {
      "cell_type": "code",
      "source": [
        "y_pred=model.predict(X_test)\n",
        "print(y_pred)\n"
      ],
      "metadata": {
        "id": "9IwWgb7dFtyC"
      },
      "execution_count": null,
      "outputs": []
    },
    {
      "cell_type": "code",
      "source": [
        "from sklearn.metrics import confusion_matrix,accuracy_score\n",
        "\n",
        "y_pred=y_pred.flatten()\n",
        "y_pred_binary = (y_pred >= 0.5).astype(int)\n",
        "print(accuracy_score(y_test,y_pred_binary))\n",
        "\n"
      ],
      "metadata": {
        "colab": {
          "base_uri": "https://localhost:8080/"
        },
        "id": "t-ogF5lHGCEs",
        "outputId": "58ae266f-3094-4ce4-ec06-eb22f730e134"
      },
      "execution_count": 26,
      "outputs": [
        {
          "output_type": "stream",
          "name": "stdout",
          "text": [
            "0.859\n"
          ]
        }
      ]
    },
    {
      "cell_type": "code",
      "source": [
        "import matplotlib.pyplot as plt\n",
        "print(model.history.history)\n",
        "plt.plot(model.history.history['loss'])\n",
        "plt.plot(model.history.history['val_accuracy'])"
      ],
      "metadata": {
        "colab": {
          "base_uri": "https://localhost:8080/",
          "height": 485
        },
        "id": "VgSDbYU6Gmb4",
        "outputId": "b0773cb0-a8d5-42e5-ce31-0d3d17912e83"
      },
      "execution_count": 30,
      "outputs": [
        {
          "output_type": "stream",
          "name": "stdout",
          "text": [
            "{'accuracy': [0.8650000095367432, 0.8654166460037231, 0.8654166460037231, 0.8634722232818604, 0.8655555844306946, 0.8644444346427917, 0.8668055534362793, 0.8661110997200012, 0.8655555844306946, 0.8662499785423279, 0.8663889169692993, 0.863611102104187, 0.8643055558204651, 0.8647222518920898, 0.8654166460037231, 0.8666666746139526, 0.866527795791626, 0.8647222518920898, 0.866527795791626, 0.8658333420753479, 0.8679166436195374, 0.8651388883590698, 0.8662499785423279, 0.8645833134651184, 0.8654166460037231, 0.8681944608688354, 0.867638885974884, 0.8686110973358154, 0.8670833110809326, 0.8651388883590698, 0.8663889169692993, 0.8654166460037231, 0.8675000071525574, 0.867222249507904, 0.8656944632530212, 0.8655555844306946, 0.8668055534362793, 0.8663889169692993, 0.8666666746139526, 0.8673611283302307, 0.8648611307144165, 0.8680555820465088, 0.8655555844306946, 0.8652777671813965, 0.8656944632530212, 0.866944432258606, 0.8650000095367432, 0.8668055534362793, 0.8683333396911621, 0.8670833110809326], 'loss': [0.32972127199172974, 0.3284110128879547, 0.3278093934059143, 0.32830414175987244, 0.32744157314300537, 0.3279309868812561, 0.32766133546829224, 0.3274770975112915, 0.32697582244873047, 0.3274509310722351, 0.3267075717449188, 0.3273729383945465, 0.3264444172382355, 0.3266168236732483, 0.3274935781955719, 0.3266882598400116, 0.32633379101753235, 0.32606348395347595, 0.32558774948120117, 0.32676073908805847, 0.32506027817726135, 0.32537999749183655, 0.32561928033828735, 0.3257173001766205, 0.3258163034915924, 0.32416191697120667, 0.32440993189811707, 0.32476919889450073, 0.3239378333091736, 0.3240692615509033, 0.3243003189563751, 0.3237124979496002, 0.3242798447608948, 0.3240545392036438, 0.32368990778923035, 0.3235873878002167, 0.32309406995773315, 0.32331064343452454, 0.32371675968170166, 0.32387426495552063, 0.3235641419887543, 0.3226180374622345, 0.32307663559913635, 0.32313433289527893, 0.32304906845092773, 0.32299163937568665, 0.3231816291809082, 0.3229205012321472, 0.32252347469329834, 0.322488009929657], 'val_accuracy': [0.852222204208374, 0.855555534362793, 0.8566666841506958, 0.8561111092567444, 0.8561111092567444, 0.8550000190734863, 0.8566666841506958, 0.8538888692855835, 0.8588888645172119, 0.8566666841506958, 0.8605555295944214, 0.8561111092567444, 0.8588888645172119, 0.8594444394111633, 0.8605555295944214, 0.8605555295944214, 0.8583333492279053, 0.8594444394111633, 0.8577777743339539, 0.8572221994400024, 0.8594444394111633, 0.8566666841506958, 0.8583333492279053, 0.8594444394111633, 0.8638888597488403, 0.8594444394111633, 0.8605555295944214, 0.8594444394111633, 0.8600000143051147, 0.8594444394111633, 0.8600000143051147, 0.8561111092567444, 0.8561111092567444, 0.8594444394111633, 0.8583333492279053, 0.8550000190734863, 0.8577777743339539, 0.8577777743339539, 0.8550000190734863, 0.8561111092567444, 0.8588888645172119, 0.8566666841506958, 0.8566666841506958, 0.8544444441795349, 0.8566666841506958, 0.855555534362793, 0.8577777743339539, 0.8544444441795349, 0.8600000143051147, 0.8588888645172119], 'val_loss': [0.3541301488876343, 0.3541053235530853, 0.3524751365184784, 0.35213354229927063, 0.3529641032218933, 0.35187479853630066, 0.3526540994644165, 0.35408738255500793, 0.35278716683387756, 0.35283970832824707, 0.3516843914985657, 0.3531782329082489, 0.3519841730594635, 0.35235366225242615, 0.35284024477005005, 0.3518180251121521, 0.35171064734458923, 0.35198596119880676, 0.3539136052131653, 0.3521115183830261, 0.351897269487381, 0.35257527232170105, 0.35197654366493225, 0.351394385099411, 0.3520318865776062, 0.3515987694263458, 0.3526936173439026, 0.3521639406681061, 0.3532565236091614, 0.3534702658653259, 0.3535766005516052, 0.3554341495037079, 0.35418808460235596, 0.3528403043746948, 0.3530443012714386, 0.3546929955482483, 0.3533942699432373, 0.35305657982826233, 0.35660260915756226, 0.3544629216194153, 0.35532692074775696, 0.3546496331691742, 0.3551296889781952, 0.35954686999320984, 0.35532069206237793, 0.35858988761901855, 0.3556439280509949, 0.3555859923362732, 0.35441142320632935, 0.3542545437812805]}\n"
          ]
        },
        {
          "output_type": "execute_result",
          "data": {
            "text/plain": [
              "[<matplotlib.lines.Line2D at 0x7cc363c4b8e0>]"
            ]
          },
          "metadata": {},
          "execution_count": 30
        },
        {
          "output_type": "display_data",
          "data": {
            "text/plain": [
              "<Figure size 640x480 with 1 Axes>"
            ],
            "image/png": "[encoded data removed]"
          },
          "metadata": {}
        }
      ]
    },
    {
      "cell_type": "code",
      "source": [],
      "metadata": {
        "id": "aWKjM3_9Gzl3"
      },
      "execution_count": null,
      "outputs": []
    }
  ]
}